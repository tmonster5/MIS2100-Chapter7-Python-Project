{
 "cells": [
  {
   "cell_type": "code",
   "execution_count": 12,
   "id": "1db78ac2",
   "metadata": {},
   "outputs": [],
   "source": [
    "class Department: \n",
    "        def __init__(self,departmentSupervisor):\n",
    "            self.departmentSupervisor = departmentSupervisor\n",
    "            self.departmentAssets = []\n",
    "        "
   ]
  },
  {
   "cell_type": "code",
   "execution_count": 13,
   "id": "2d17f95c",
   "metadata": {},
   "outputs": [],
   "source": [
    "class DepartmentAsset:\n",
    "        def __init__(self,assetName,assetValue,quantity,expectedLifeSpan):\n",
    "                self.assetName = assetName\n",
    "                self.assetValue = assetValue\n",
    "                self.quantity = quantity\n",
    "                self.expectedLifeSpan = expectedLifeSpan\n",
    "        "
   ]
  },
  {
   "cell_type": "code",
   "execution_count": 14,
   "id": "9fe27809",
   "metadata": {},
   "outputs": [],
   "source": [
    "class DepartmentManager:\n",
    "        def __init__(self):\n",
    "            self.departments = {}"
   ]
  },
  {
   "cell_type": "code",
   "execution_count": 17,
   "id": "332e1018",
   "metadata": {},
   "outputs": [],
   "source": [
    "deptManager = DepartmentManager()\n",
    "mktDept = Department(\"Jamie Doe\")\n",
    "mktDeptAsset1 = DepartmentAsset(\"desk\",5000,2,10)\n",
    "mktDeptAsset2 = DepartmentAsset(\"Computer\",1500,5,5)\n",
    "mktDept.departmentAssets.append(mktDeptAsset1)\n",
    "mktDept.departmentAssets.append(mktDeptAsset2)\n",
    "\n",
    "financeDept = Department(\"Ryan Doe\")\n",
    "financeDeptAsset1 = DepartmentAsset(\"chair\",500,2,10)\n",
    "financeDeptAsset2 = DepartmentAsset(\"Computer\",500,3,5)\n",
    "financeDept.departmentAssets.append(financeDeptAsset1)\n",
    "financeDept.departmentAssets.append(financeDeptAsset2)\n",
    "\n",
    "deptManager.departments[\"marketing\"] = mktDept\n",
    "deptManager.departments[\"financeDept\"] = financeDept\n"
   ]
  },
  {
   "cell_type": "code",
   "execution_count": 21,
   "id": "39c0c7fc",
   "metadata": {
    "scrolled": false
   },
   "outputs": [
    {
     "name": "stdout",
     "output_type": "stream",
     "text": [
      "Jamie Doe is in charge of the marketing department and the following assets less than $2000:\n",
      "\t5 Computers at $1500 each. This asset is expected to last for 5 years\n",
      "Ryan Doe is in charge of the financeDept department and the following assets less than $2000:\n",
      "\t2 chairs at $500 each. This asset is expected to last for 10 years\n",
      "\t3 Computers at $500 each. This asset is expected to last for 5 years\n"
     ]
    }
   ],
   "source": [
    "\n",
    "for key, value in deptManager.departments.items():\n",
    " \n",
    "    print(\"{} is in charge of the {} department and the following assets less than $2000:\".format(value.departmentSupervisor,key))\n",
    "  \n",
    "    for v in value.departmentAssets:\n",
    "        \n",
    "        if v.assetValue < 2000:\n",
    "            print(\"\\t{} {}s at ${} each. This asset is expected to last for {} years\".format(v.quantity,v.assetName,v.assetValue,v.expectedLifeSpan))\n",
    "   \n",
    "            "
   ]
  },
  {
   "cell_type": "code",
   "execution_count": null,
   "id": "26375a5f",
   "metadata": {},
   "outputs": [],
   "source": []
  },
  {
   "cell_type": "code",
   "execution_count": null,
   "id": "7c3dc8aa",
   "metadata": {},
   "outputs": [],
   "source": []
  }
 ],
 "metadata": {
  "kernelspec": {
   "display_name": "Python 3",
   "language": "python",
   "name": "python3"
  },
  "language_info": {
   "codemirror_mode": {
    "name": "ipython",
    "version": 3
   },
   "file_extension": ".py",
   "mimetype": "text/x-python",
   "name": "python",
   "nbconvert_exporter": "python",
   "pygments_lexer": "ipython3",
   "version": "3.8.8"
  }
 },
 "nbformat": 4,
 "nbformat_minor": 5
}
