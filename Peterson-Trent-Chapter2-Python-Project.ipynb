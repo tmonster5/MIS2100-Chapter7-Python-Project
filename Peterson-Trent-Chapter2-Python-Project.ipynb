{
 "cells": [
  {
   "cell_type": "code",
   "execution_count": null,
   "id": "4ac54ca9",
   "metadata": {},
   "outputs": [],
   "source": [
    "print(\"Hello\")"
   ]
  },
  {
   "cell_type": "code",
   "execution_count": 22,
   "id": "5c28166d",
   "metadata": {},
   "outputs": [],
   "source": [
    "class Customer:\n",
    "    def __init__(self,firstName=None,lastName=None,address=None,age=20):\n",
    "        self._firstName = firstName\n",
    "        self._lastName = lastName\n",
    "        self._address = address\n",
    "        self._age = age\n",
    "     \n",
    "    def get_FirstName(self):\n",
    "        return self._firstName\n",
    "        \n",
    "    def set_FirstName(self,x):\n",
    "        self._firstName = x\n",
    "        \n",
    "    def get_LastName(self):\n",
    "        return self._lastName\n",
    "        \n",
    "    def set_LastName(self,x):\n",
    "        self._lastName = x\n",
    "        \n",
    "    def get_Address(self):\n",
    "        return self._address\n",
    "        \n",
    "    def set_Address(self,x):\n",
    "        self._address = x\n",
    "        \n",
    "    def get_Age(self):\n",
    "        return self._age \n",
    "        \n",
    "    def set_Age(self,x):\n",
    "        self._age = x\n",
    "        \n",
    "    def printCustomerDetails(self):\n",
    "        FName = str(self.get_FirstName())\n",
    "        LName = str(self.get_LastName())\n",
    "        AD = str(self.get_Address())\n",
    "        AG = self.get_Age()\n",
    "        print(\"Name: \"+FName+\" \"+LName)\n",
    "        print(\"Address: \"+AD)\n",
    "        print(\"Age: \"+str(AG))"
   ]
  },
  {
   "cell_type": "code",
   "execution_count": 23,
   "id": "8b3fca84",
   "metadata": {
    "scrolled": false
   },
   "outputs": [
    {
     "name": "stdout",
     "output_type": "stream",
     "text": [
      "Name: Trent Peterson\n",
      "Address: 1247 Marvin Ct\n",
      "Age: 25\n",
      "Name: John Kenision\n",
      "Address: 102 Country ln\n",
      "Age: 21\n"
     ]
    }
   ],
   "source": [
    "firstCustomer = Customer(\"Trent\",\"Peterson\",\"1247 Marvin Ct\",25)\n",
    "firstCustomer.printCustomerDetails()\n",
    "secondCustomer = Customer()\n",
    "secondCustomer.set_FirstName(\"John\")\n",
    "secondCustomer.set_LastName(\"Kenision\")\n",
    "secondCustomer.set_Address(\"102 Country ln\")\n",
    "secondCustomer.set_Age(21)\n",
    "secondCustomer.printCustomerDetails()\n"
   ]
  },
  {
   "cell_type": "code",
   "execution_count": null,
   "id": "16a0afc4",
   "metadata": {},
   "outputs": [],
   "source": []
  }
 ],
 "metadata": {
  "kernelspec": {
   "display_name": "Python 3",
   "language": "python",
   "name": "python3"
  },
  "language_info": {
   "codemirror_mode": {
    "name": "ipython",
    "version": 3
   },
   "file_extension": ".py",
   "mimetype": "text/x-python",
   "name": "python",
   "nbconvert_exporter": "python",
   "pygments_lexer": "ipython3",
   "version": "3.8.8"
  }
 },
 "nbformat": 4,
 "nbformat_minor": 5
}
