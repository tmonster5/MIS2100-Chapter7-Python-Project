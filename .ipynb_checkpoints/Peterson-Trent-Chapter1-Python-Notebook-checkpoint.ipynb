{
 "cells": [
  {
   "cell_type": "markdown",
   "id": "bb303a02",
   "metadata": {},
   "source": [
    "This is my first Python Program"
   ]
  }
 ],
 "metadata": {
  "kernelspec": {
   "display_name": "Python 3",
   "language": "python",
   "name": "python3"
  }
 },
 "nbformat": 4,
 "nbformat_minor": 5
}
