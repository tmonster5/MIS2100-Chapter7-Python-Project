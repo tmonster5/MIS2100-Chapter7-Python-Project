{
 "cells": [
  {
   "cell_type": "code",
   "execution_count": 2,
   "id": "71521c97",
   "metadata": {},
   "outputs": [],
   "source": [
    "class SimpleMath:\n",
    "    def divide(self,numer,deno):\n",
    "        if deno == 0:\n",
    "            raise ZeroDivisionError()  \n",
    "        else:\n",
    "            result = numer/deno\n",
    "        return result\n",
    "    def multiply(self,num1,num2)\n",
    "        return num1 * num2"
   ]
  },
  {
   "cell_type": "code",
   "execution_count": 3,
   "id": "3209d1a7",
   "metadata": {},
   "outputs": [
    {
     "name": "stderr",
     "output_type": "stream",
     "text": [
      "\n",
      "----------------------------------------------------------------------\n",
      "Ran 0 tests in 0.000s\n",
      "\n",
      "OK\n"
     ]
    }
   ],
   "source": [
    "import unittest \n",
    "\n",
    "class SimpleMathTest(unittest.TestCase):\n",
    "    math = SimpleMath()\n",
    "    def testThatZeroNumeratorReturnsZero(self):\n",
    "        self.assertEqual(0,math.divide(0,7))\n",
    "        \n",
    "    def testThatSmallerNumeratorReturnsDecimalValue(self):\n",
    "        self.assertEqual(0.25,math.divide(1,4))\n",
    "        \n",
    "    def testThatSmallerNumeratorReturnsRepeatingDecimalValue(self):\n",
    "        self.assertAlmostEqual(0.143,math.divide(1,7),3)\n",
    "        \n",
    "    def testThatZeroDenominatorThrowsException(self):\n",
    "        with self.assertRaises(ZeroDivisionError):\n",
    "            math.divide(7,0);\n",
    "    if __name__ == '__main__':\n",
    "        unittest.main(argv=['first-arg-is-ignored'], exit=False)"
   ]
  },
  {
   "cell_type": "code",
   "execution_count": null,
   "id": "56c819f4",
   "metadata": {},
   "outputs": [],
   "source": []
  }
 ],
 "metadata": {
  "kernelspec": {
   "display_name": "Python 3",
   "language": "python",
   "name": "python3"
  },
  "language_info": {
   "codemirror_mode": {
    "name": "ipython",
    "version": 3
   },
   "file_extension": ".py",
   "mimetype": "text/x-python",
   "name": "python",
   "nbconvert_exporter": "python",
   "pygments_lexer": "ipython3",
   "version": "3.8.8"
  }
 },
 "nbformat": 4,
 "nbformat_minor": 5
}
